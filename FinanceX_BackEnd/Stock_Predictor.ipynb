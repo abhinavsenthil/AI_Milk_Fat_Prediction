{
  "nbformat": 4,
  "nbformat_minor": 0,
  "metadata": {
    "colab": {
      "name": "Stock_Predictor.ipynb",
      "provenance": [],
      "include_colab_link": true
    },
    "kernelspec": {
      "name": "python3",
      "display_name": "Python 3"
    }
  },
  "cells": [
    {
      "cell_type": "markdown",
      "metadata": {
        "id": "view-in-github",
        "colab_type": "text"
      },
      "source": [
        "<a href=\"https://colab.research.google.com/github/abhinavsenthil/AI_Milk_Fat_Prediction/blob/main/FinanceX_BackEnd/Stock_Predictor.ipynb\" target=\"_parent\"><img src=\"https://colab.research.google.com/assets/colab-badge.svg\" alt=\"Open In Colab\"/></a>"
      ]
    },
    {
      "cell_type": "code",
      "metadata": {
        "id": "ds7YW69GwuA4"
      },
      "source": [
        "#Helper libraries\n",
        "import numpy as np\n",
        "from matplotlib import pyplot as plt\n",
        "import pandas as pd\n",
        "import math\n",
        "import pandas_datareader as web\n",
        "from sklearn.preprocessing import MinMaxScaler\n",
        "from keras.models import Sequential\n",
        "from keras.layers import Dense, LSTM\n",
        "plt.style.use('fivethirtyeight')"
      ],
      "execution_count": null,
      "outputs": []
    },
    {
      "cell_type": "code",
      "metadata": {
        "id": "8KnXmsW7yWlP",
        "colab": {
          "base_uri": "https://localhost:8080/",
          "height": 450
        },
        "outputId": "002b0a8b-bbbf-4fb6-bbbd-80fdb224d76e"
      },
      "source": [
        "#Stocks retriever\n",
        "\n",
        "Data_frame = web.DataReader('IBM', data_source='yahoo', start='1962-01-02', end='2020-11-10')\n",
        "#print stock data\n",
        "Data_frame"
      ],
      "execution_count": null,
      "outputs": [
        {
          "output_type": "execute_result",
          "data": {
            "text/html": [
              "<div>\n",
              "<style scoped>\n",
              "    .dataframe tbody tr th:only-of-type {\n",
              "        vertical-align: middle;\n",
              "    }\n",
              "\n",
              "    .dataframe tbody tr th {\n",
              "        vertical-align: top;\n",
              "    }\n",
              "\n",
              "    .dataframe thead th {\n",
              "        text-align: right;\n",
              "    }\n",
              "</style>\n",
              "<table border=\"1\" class=\"dataframe\">\n",
              "  <thead>\n",
              "    <tr style=\"text-align: right;\">\n",
              "      <th></th>\n",
              "      <th>High</th>\n",
              "      <th>Low</th>\n",
              "      <th>Open</th>\n",
              "      <th>Close</th>\n",
              "      <th>Volume</th>\n",
              "      <th>Adj Close</th>\n",
              "    </tr>\n",
              "    <tr>\n",
              "      <th>Date</th>\n",
              "      <th></th>\n",
              "      <th></th>\n",
              "      <th></th>\n",
              "      <th></th>\n",
              "      <th></th>\n",
              "      <th></th>\n",
              "    </tr>\n",
              "  </thead>\n",
              "  <tbody>\n",
              "    <tr>\n",
              "      <th>1962-01-02</th>\n",
              "      <td>7.713333</td>\n",
              "      <td>7.626667</td>\n",
              "      <td>7.713333</td>\n",
              "      <td>7.626667</td>\n",
              "      <td>387200.0</td>\n",
              "      <td>1.850917</td>\n",
              "    </tr>\n",
              "    <tr>\n",
              "      <th>1962-01-03</th>\n",
              "      <td>7.693333</td>\n",
              "      <td>7.626667</td>\n",
              "      <td>7.626667</td>\n",
              "      <td>7.693333</td>\n",
              "      <td>288000.0</td>\n",
              "      <td>1.867095</td>\n",
              "    </tr>\n",
              "    <tr>\n",
              "      <th>1962-01-04</th>\n",
              "      <td>7.693333</td>\n",
              "      <td>7.613333</td>\n",
              "      <td>7.693333</td>\n",
              "      <td>7.616667</td>\n",
              "      <td>256000.0</td>\n",
              "      <td>1.848488</td>\n",
              "    </tr>\n",
              "    <tr>\n",
              "      <th>1962-01-05</th>\n",
              "      <td>7.606667</td>\n",
              "      <td>7.453333</td>\n",
              "      <td>7.606667</td>\n",
              "      <td>7.466667</td>\n",
              "      <td>363200.0</td>\n",
              "      <td>1.812086</td>\n",
              "    </tr>\n",
              "    <tr>\n",
              "      <th>1962-01-08</th>\n",
              "      <td>7.460000</td>\n",
              "      <td>7.266667</td>\n",
              "      <td>7.460000</td>\n",
              "      <td>7.326667</td>\n",
              "      <td>544000.0</td>\n",
              "      <td>1.778110</td>\n",
              "    </tr>\n",
              "    <tr>\n",
              "      <th>...</th>\n",
              "      <td>...</td>\n",
              "      <td>...</td>\n",
              "      <td>...</td>\n",
              "      <td>...</td>\n",
              "      <td>...</td>\n",
              "      <td>...</td>\n",
              "    </tr>\n",
              "    <tr>\n",
              "      <th>2020-11-04</th>\n",
              "      <td>113.910004</td>\n",
              "      <td>111.160004</td>\n",
              "      <td>112.330002</td>\n",
              "      <td>111.900002</td>\n",
              "      <td>5800100.0</td>\n",
              "      <td>110.300583</td>\n",
              "    </tr>\n",
              "    <tr>\n",
              "      <th>2020-11-05</th>\n",
              "      <td>115.290001</td>\n",
              "      <td>113.010002</td>\n",
              "      <td>113.300003</td>\n",
              "      <td>114.769997</td>\n",
              "      <td>4902200.0</td>\n",
              "      <td>113.129562</td>\n",
              "    </tr>\n",
              "    <tr>\n",
              "      <th>2020-11-06</th>\n",
              "      <td>115.099998</td>\n",
              "      <td>113.389999</td>\n",
              "      <td>115.080002</td>\n",
              "      <td>114.040001</td>\n",
              "      <td>5249200.0</td>\n",
              "      <td>112.409996</td>\n",
              "    </tr>\n",
              "    <tr>\n",
              "      <th>2020-11-09</th>\n",
              "      <td>119.739998</td>\n",
              "      <td>115.269997</td>\n",
              "      <td>117.879997</td>\n",
              "      <td>115.529999</td>\n",
              "      <td>8992200.0</td>\n",
              "      <td>115.529999</td>\n",
              "    </tr>\n",
              "    <tr>\n",
              "      <th>2020-11-10</th>\n",
              "      <td>118.169998</td>\n",
              "      <td>116.250000</td>\n",
              "      <td>116.690002</td>\n",
              "      <td>117.910004</td>\n",
              "      <td>5622800.0</td>\n",
              "      <td>117.910004</td>\n",
              "    </tr>\n",
              "  </tbody>\n",
              "</table>\n",
              "<p>14818 rows × 6 columns</p>\n",
              "</div>"
            ],
            "text/plain": [
              "                  High         Low  ...     Volume   Adj Close\n",
              "Date                                ...                       \n",
              "1962-01-02    7.713333    7.626667  ...   387200.0    1.850917\n",
              "1962-01-03    7.693333    7.626667  ...   288000.0    1.867095\n",
              "1962-01-04    7.693333    7.613333  ...   256000.0    1.848488\n",
              "1962-01-05    7.606667    7.453333  ...   363200.0    1.812086\n",
              "1962-01-08    7.460000    7.266667  ...   544000.0    1.778110\n",
              "...                ...         ...  ...        ...         ...\n",
              "2020-11-04  113.910004  111.160004  ...  5800100.0  110.300583\n",
              "2020-11-05  115.290001  113.010002  ...  4902200.0  113.129562\n",
              "2020-11-06  115.099998  113.389999  ...  5249200.0  112.409996\n",
              "2020-11-09  119.739998  115.269997  ...  8992200.0  115.529999\n",
              "2020-11-10  118.169998  116.250000  ...  5622800.0  117.910004\n",
              "\n",
              "[14818 rows x 6 columns]"
            ]
          },
          "metadata": {
            "tags": []
          },
          "execution_count": 27
        }
      ]
    },
    {
      "cell_type": "code",
      "metadata": {
        "id": "mLelRdkLzIYJ",
        "colab": {
          "base_uri": "https://localhost:8080/"
        },
        "outputId": "c3f5c982-9574-4a58-b9ff-0a6aad4404ca"
      },
      "source": [
        "#get number of rows and cols\n",
        "Data_frame.shape"
      ],
      "execution_count": null,
      "outputs": [
        {
          "output_type": "execute_result",
          "data": {
            "text/plain": [
              "(10051, 6)"
            ]
          },
          "metadata": {
            "tags": []
          },
          "execution_count": 22
        }
      ]
    },
    {
      "cell_type": "code",
      "metadata": {
        "id": "jqLjfqHDzSdI",
        "colab": {
          "base_uri": "https://localhost:8080/",
          "height": 518
        },
        "outputId": "47f93b6f-93bf-49b7-8ccc-0847e1c47772"
      },
      "source": [
        "#Visualise the closing price\n",
        "\n",
        "plt.figure(figsize=(16,8))\n",
        "plt.title('Close price history')\n",
        "plt.plot(Data_frame['Close'])\n",
        "plt.xlabel('Date', fontsize=18)\n",
        "plt.ylabel('Close $', fontsize=18)\n",
        "plt.show()"
      ],
      "execution_count": null,
      "outputs": [
        {
          "output_type": "display_data",
          "data": {
            "image/png": "[encoded data removed]",
            "text/plain": [
              "<Figure size 1152x576 with 1 Axes>"
            ]
          },
          "metadata": {
            "tags": [],
            "needs_background": "light"
          }
        }
      ]
    },
    {
      "cell_type": "code",
      "metadata": {
        "id": "1A5KoSek0Txo",
        "colab": {
          "base_uri": "https://localhost:8080/",
          "height": 34
        },
        "outputId": "f2e9cc02-ffff-4765-b219-22c8e8ef1e85"
      },
      "source": [
        "#create a new data frame with only the close column\n",
        "\n",
        "data = Data_frame.filter(['Close'])\n",
        "dataset= data.values\n",
        "#Get the number of rows to train the model on\n",
        "training_data_len = math.ceil(len(dataset)* .8)\n",
        "\n",
        "training_data_len \n"
      ],
      "execution_count": null,
      "outputs": [
        {
          "output_type": "execute_result",
          "data": {
            "text/plain": [
              "1603"
            ]
          },
          "metadata": {
            "tags": []
          },
          "execution_count": 9
        }
      ]
    },
    {
      "cell_type": "code",
      "metadata": {
        "id": "hp9v_Nb41BLn",
        "colab": {
          "base_uri": "https://localhost:8080/",
          "height": 136
        },
        "outputId": "4f6fc3cf-3906-4455-b418-b3e197307f5f"
      },
      "source": [
        "#scale the data\n",
        "scaler = MinMaxScaler(feature_range=(0,1))\n",
        "scaled_data = scaler.fit_transform(dataset)\n",
        "\n",
        "scaled_data"
      ],
      "execution_count": null,
      "outputs": [
        {
          "output_type": "execute_result",
          "data": {
            "text/plain": [
              "array([[0.01316509],\n",
              "       [0.01457064],\n",
              "       [0.01748985],\n",
              "       ...,\n",
              "       [0.97658263],\n",
              "       [0.99755134],\n",
              "       [1.        ]])"
            ]
          },
          "metadata": {
            "tags": []
          },
          "execution_count": 11
        }
      ]
    },
    {
      "cell_type": "code",
      "metadata": {
        "id": "qz5h_JWP1kVW",
        "colab": {
          "base_uri": "https://localhost:8080/",
          "height": 255
        },
        "outputId": "9c94a777-2e16-4129-ebad-95203783810a"
      },
      "source": [
        "#create the training data set\n",
        "train_data = scaled_data[0:training_data_len,:]\n",
        "#split the data\n",
        "x_train=[]\n",
        "y_train=[]\n",
        "\n",
        "\n",
        "for i in range(60,len(train_data)):\n",
        "  x_train.append(train_data[i-60:i, 0])\n",
        "  y_train.append(train_data[i, 0])\n",
        "  if i<= 60:\n",
        "    print(x_train)\n",
        "    print(y_train)\n",
        "    print()"
      ],
      "execution_count": null,
      "outputs": [
        {
          "output_type": "stream",
          "text": [
            "[array([0.01316509, 0.01457064, 0.01748985, 0.02026915, 0.01984303,\n",
            "       0.02080338, 0.02036454, 0.01962679, 0.01862193, 0.02173194,\n",
            "       0.02453668, 0.02367172, 0.01893356, 0.02345548, 0.01900352,\n",
            "       0.03569838, 0.03440731, 0.0360927 , 0.03973694, 0.04194384,\n",
            "       0.0417594 , 0.0410789 , 0.04397903, 0.04670744, 0.04979839,\n",
            "       0.05479095, 0.0652785 , 0.06543749, 0.07127594, 0.07563885,\n",
            "       0.06814046, 0.07102789, 0.07097066, 0.07906688, 0.07791571,\n",
            "       0.08004628, 0.08387497, 0.08600558, 0.09214292, 0.09661397,\n",
            "       0.09790501, 0.09835659, 0.09071194, 0.08886753, 0.08914103,\n",
            "       0.09632775, 0.09835024, 0.10269405, 0.11293358, 0.12659476,\n",
            "       0.12403805, 0.1240444 , 0.13392141, 0.13701233, 0.13481179,\n",
            "       0.13280207, 0.13070964, 0.13766105, 0.14243103, 0.14442805])]\n",
            "[0.13949272033425864]\n",
            "\n"
          ],
          "name": "stdout"
        }
      ]
    },
    {
      "cell_type": "code",
      "metadata": {
        "id": "BHN9gQ2h21cV"
      },
      "source": [
        "#"
      ],
      "execution_count": null,
      "outputs": []
    }
  ]
}