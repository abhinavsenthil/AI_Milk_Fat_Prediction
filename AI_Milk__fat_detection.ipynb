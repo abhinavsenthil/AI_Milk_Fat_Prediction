{
  "nbformat": 4,
  "nbformat_minor": 0,
  "metadata": {
    "colab": {
      "name": "AI_Milk_%fat_detection.ipynb",
      "provenance": [],
      "authorship_tag": "ABX9TyPfdyQd9Xs/Wja2xng63y7G",
      "include_colab_link": true
    },
    "kernelspec": {
      "name": "python3",
      "display_name": "Python 3"
    }
  },
  "cells": [
    {
      "cell_type": "markdown",
      "metadata": {
        "id": "view-in-github",
        "colab_type": "text"
      },
      "source": [
        "<a href=\"https://colab.research.google.com/github/abhinavsenthil/AI_Milk_Fat_Prediction/blob/main/AI_Milk__fat_detection.ipynb\" target=\"_parent\"><img src=\"https://colab.research.google.com/assets/colab-badge.svg\" alt=\"Open In Colab\"/></a>"
      ]
    },
    {
      "cell_type": "code",
      "metadata": {
        "id": "idM-Ivku3_hC"
      },
      "source": [
        "#this part involves training the neural network. the preprocessing of data is in a different python file (pycharm)\n",
        "#Installing the dependencies\n",
        "from sklearn.model_selection import train_test_split\n",
        "import numpy as np #linear algebra\n",
        "import pandas as pd #looking at csv files\n",
        "from sklearn import neighbors\n",
        "from sklearn import svm\n",
        "from sklearn import metrics #accuracy and loss\n",
        "from sklearn.metrics import scorer"
      ],
      "execution_count": 47,
      "outputs": []
    },
    {
      "cell_type": "code",
      "metadata": {
        "id": "NwLwXD_GnprK",
        "colab": {
          "resources": {
            "http://localhost:8080/nbextensions/google.colab/files.js": {
              "data": "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",
              "ok": true,
              "headers": [
                [
                  "content-type",
                  "application/javascript"
                ]
              ],
              "status": 200,
              "status_text": ""
            }
          },
          "base_uri": "https://localhost:8080/",
          "height": 72
        },
        "outputId": "e8ffa5a0-f621-4296-90ef-7e62589779b8"
      },
      "source": [
        "#uploading the dataset\n",
        "from google.colab import files\n",
        "uploaded = files.upload()"
      ],
      "execution_count": 31,
      "outputs": [
        {
          "output_type": "display_data",
          "data": {
            "text/html": [
              "\n",
              "     <input type=\"file\" id=\"files-eafe175a-bfc6-487f-9a34-e9b1d80cc120\" name=\"files[]\" multiple disabled\n",
              "        style=\"border:none\" />\n",
              "     <output id=\"result-eafe175a-bfc6-487f-9a34-e9b1d80cc120\">\n",
              "      Upload widget is only available when the cell has been executed in the\n",
              "      current browser session. Please rerun this cell to enable.\n",
              "      </output>\n",
              "      <script src=\"/nbextensions/google.colab/files.js\"></script> "
            ],
            "text/plain": [
              "<IPython.core.display.HTML object>"
            ]
          },
          "metadata": {
            "tags": []
          }
        },
        {
          "output_type": "stream",
          "text": [
            "Saving AI_%Fat_Prediction.csv to AI_%Fat_Prediction.csv\n"
          ],
          "name": "stdout"
        }
      ]
    },
    {
      "cell_type": "code",
      "metadata": {
        "colab": {
          "base_uri": "https://localhost:8080/",
          "height": 204
        },
        "id": "oZ6uW7Al4bpn",
        "outputId": "aece4f85-e892-4652-e191-82bf89875aa0"
      },
      "source": [
        "#looking at the dataset\n",
        "df = pd.read_csv('AI_%Fat_Prediction.csv')\n",
        "df.head()\n"
      ],
      "execution_count": 32,
      "outputs": [
        {
          "output_type": "execute_result",
          "data": {
            "text/html": [
              "<div>\n",
              "<style scoped>\n",
              "    .dataframe tbody tr th:only-of-type {\n",
              "        vertical-align: middle;\n",
              "    }\n",
              "\n",
              "    .dataframe tbody tr th {\n",
              "        vertical-align: top;\n",
              "    }\n",
              "\n",
              "    .dataframe thead th {\n",
              "        text-align: right;\n",
              "    }\n",
              "</style>\n",
              "<table border=\"1\" class=\"dataframe\">\n",
              "  <thead>\n",
              "    <tr style=\"text-align: right;\">\n",
              "      <th></th>\n",
              "      <th>Sno.</th>\n",
              "      <th>Image</th>\n",
              "      <th>b pixel val</th>\n",
              "      <th>g pixel val</th>\n",
              "      <th>r pixel val</th>\n",
              "      <th>bgr val</th>\n",
              "      <th>%fat</th>\n",
              "      <th>SNF</th>\n",
              "    </tr>\n",
              "  </thead>\n",
              "  <tbody>\n",
              "    <tr>\n",
              "      <th>0</th>\n",
              "      <td>1</td>\n",
              "      <td>/Users/abhinavsenthil/Desktop/Milk_Project/Tra...</td>\n",
              "      <td>172.050529</td>\n",
              "      <td>206.241490</td>\n",
              "      <td>214.861684</td>\n",
              "      <td>[[172.05052910052908], [206.2414902998235], [2...</td>\n",
              "      <td>6.5</td>\n",
              "      <td>8.2</td>\n",
              "    </tr>\n",
              "    <tr>\n",
              "      <th>1</th>\n",
              "      <td>2</td>\n",
              "      <td>/Users/abhinavsenthil/Desktop/Milk_Project/Tra...</td>\n",
              "      <td>94.051385</td>\n",
              "      <td>150.679615</td>\n",
              "      <td>177.045308</td>\n",
              "      <td>[[94.05138461538459], [150.67961538461543], [1...</td>\n",
              "      <td>6.4</td>\n",
              "      <td>8.2</td>\n",
              "    </tr>\n",
              "    <tr>\n",
              "      <th>2</th>\n",
              "      <td>3</td>\n",
              "      <td>/Users/abhinavsenthil/Desktop/Milk_Project/Tra...</td>\n",
              "      <td>149.541684</td>\n",
              "      <td>198.814869</td>\n",
              "      <td>218.140575</td>\n",
              "      <td>[[149.54168346774185], [198.8148689516129], [2...</td>\n",
              "      <td>5.8</td>\n",
              "      <td>9.3</td>\n",
              "    </tr>\n",
              "    <tr>\n",
              "      <th>3</th>\n",
              "      <td>4</td>\n",
              "      <td>/Users/abhinavsenthil/Desktop/Milk_Project/Tra...</td>\n",
              "      <td>170.411855</td>\n",
              "      <td>205.806279</td>\n",
              "      <td>215.099531</td>\n",
              "      <td>[[170.41185446009385], [205.80627934272292], [...</td>\n",
              "      <td>6.1</td>\n",
              "      <td>8.4</td>\n",
              "    </tr>\n",
              "    <tr>\n",
              "      <th>4</th>\n",
              "      <td>5</td>\n",
              "      <td>/Users/abhinavsenthil/Desktop/Milk_Project/Tra...</td>\n",
              "      <td>113.807950</td>\n",
              "      <td>159.504789</td>\n",
              "      <td>176.212260</td>\n",
              "      <td>[[113.80795019157088], [159.50478927203062], [...</td>\n",
              "      <td>4.7</td>\n",
              "      <td>10.0</td>\n",
              "    </tr>\n",
              "  </tbody>\n",
              "</table>\n",
              "</div>"
            ],
            "text/plain": [
              "   Sno.                                              Image  ...  %fat   SNF\n",
              "0     1  /Users/abhinavsenthil/Desktop/Milk_Project/Tra...  ...   6.5   8.2\n",
              "1     2  /Users/abhinavsenthil/Desktop/Milk_Project/Tra...  ...   6.4   8.2\n",
              "2     3  /Users/abhinavsenthil/Desktop/Milk_Project/Tra...  ...   5.8   9.3\n",
              "3     4  /Users/abhinavsenthil/Desktop/Milk_Project/Tra...  ...   6.1   8.4\n",
              "4     5  /Users/abhinavsenthil/Desktop/Milk_Project/Tra...  ...   4.7  10.0\n",
              "\n",
              "[5 rows x 8 columns]"
            ]
          },
          "metadata": {
            "tags": []
          },
          "execution_count": 32
        }
      ]
    },
    {
      "cell_type": "code",
      "metadata": {
        "id": "dO2LbE3Q4eZY"
      },
      "source": [
        "#dropping unwanted columns\n",
        "#file path(location) is unwanted\n",
        "New_df = df.drop(columns=['Sno.',\"Image\",\"bgr val\", \"%fat\", \"SNF\")\n",
        "New_df2 = New_df.drop(columns=\"Image\")\n",
        "New_df2.head()\n",
        "New_df3 = New_df2.drop(columns=[\"bgr val\", \"%fat\", \"SNF\"])"
      ],
      "execution_count": 42,
      "outputs": []
    },
    {
      "cell_type": "code",
      "metadata": {
        "colab": {
          "base_uri": "https://localhost:8080/",
          "height": 235
        },
        "id": "3qSOKiFk5Yn4",
        "outputId": "51cdf777-28fc-43bb-9a10-2e23e7430b82"
      },
      "source": [
        "df.corr()"
      ],
      "execution_count": 142,
      "outputs": [
        {
          "output_type": "execute_result",
          "data": {
            "text/html": [
              "<div>\n",
              "<style scoped>\n",
              "    .dataframe tbody tr th:only-of-type {\n",
              "        vertical-align: middle;\n",
              "    }\n",
              "\n",
              "    .dataframe tbody tr th {\n",
              "        vertical-align: top;\n",
              "    }\n",
              "\n",
              "    .dataframe thead th {\n",
              "        text-align: right;\n",
              "    }\n",
              "</style>\n",
              "<table border=\"1\" class=\"dataframe\">\n",
              "  <thead>\n",
              "    <tr style=\"text-align: right;\">\n",
              "      <th></th>\n",
              "      <th>Sno.</th>\n",
              "      <th>b pixel val</th>\n",
              "      <th>g pixel val</th>\n",
              "      <th>r pixel val</th>\n",
              "      <th>%fat</th>\n",
              "      <th>SNF</th>\n",
              "    </tr>\n",
              "  </thead>\n",
              "  <tbody>\n",
              "    <tr>\n",
              "      <th>Sno.</th>\n",
              "      <td>1.000000</td>\n",
              "      <td>0.416686</td>\n",
              "      <td>0.498587</td>\n",
              "      <td>0.501519</td>\n",
              "      <td>-0.215155</td>\n",
              "      <td>0.284340</td>\n",
              "    </tr>\n",
              "    <tr>\n",
              "      <th>b pixel val</th>\n",
              "      <td>0.416686</td>\n",
              "      <td>1.000000</td>\n",
              "      <td>0.957381</td>\n",
              "      <td>0.874166</td>\n",
              "      <td>-0.232273</td>\n",
              "      <td>0.060303</td>\n",
              "    </tr>\n",
              "    <tr>\n",
              "      <th>g pixel val</th>\n",
              "      <td>0.498587</td>\n",
              "      <td>0.957381</td>\n",
              "      <td>1.000000</td>\n",
              "      <td>0.971776</td>\n",
              "      <td>-0.220579</td>\n",
              "      <td>0.037583</td>\n",
              "    </tr>\n",
              "    <tr>\n",
              "      <th>r pixel val</th>\n",
              "      <td>0.501519</td>\n",
              "      <td>0.874166</td>\n",
              "      <td>0.971776</td>\n",
              "      <td>1.000000</td>\n",
              "      <td>-0.174216</td>\n",
              "      <td>0.026939</td>\n",
              "    </tr>\n",
              "    <tr>\n",
              "      <th>%fat</th>\n",
              "      <td>-0.215155</td>\n",
              "      <td>-0.232273</td>\n",
              "      <td>-0.220579</td>\n",
              "      <td>-0.174216</td>\n",
              "      <td>1.000000</td>\n",
              "      <td>-0.006732</td>\n",
              "    </tr>\n",
              "    <tr>\n",
              "      <th>SNF</th>\n",
              "      <td>0.284340</td>\n",
              "      <td>0.060303</td>\n",
              "      <td>0.037583</td>\n",
              "      <td>0.026939</td>\n",
              "      <td>-0.006732</td>\n",
              "      <td>1.000000</td>\n",
              "    </tr>\n",
              "  </tbody>\n",
              "</table>\n",
              "</div>"
            ],
            "text/plain": [
              "                 Sno.  b pixel val  ...      %fat       SNF\n",
              "Sno.         1.000000     0.416686  ... -0.215155  0.284340\n",
              "b pixel val  0.416686     1.000000  ... -0.232273  0.060303\n",
              "g pixel val  0.498587     0.957381  ... -0.220579  0.037583\n",
              "r pixel val  0.501519     0.874166  ... -0.174216  0.026939\n",
              "%fat        -0.215155    -0.232273  ...  1.000000 -0.006732\n",
              "SNF          0.284340     0.060303  ... -0.006732  1.000000\n",
              "\n",
              "[6 rows x 6 columns]"
            ]
          },
          "metadata": {
            "tags": []
          },
          "execution_count": 142
        }
      ]
    },
    {
      "cell_type": "code",
      "metadata": {
        "id": "1czu33juBsKn"
      },
      "source": [
        "X = np.array(New_df3['b pixel val'])\n",
        "X = X.reshape(-1, 1)\n",
        "\n",
        "y = np.array(df['SNF'])"
      ],
      "execution_count": 316,
      "outputs": []
    },
    {
      "cell_type": "code",
      "metadata": {
        "colab": {
          "base_uri": "https://localhost:8080/"
        },
        "id": "4oHu5gavCmxZ",
        "outputId": "245d7e56-67d3-4695-983c-7ca2e9e13e2f"
      },
      "source": [
        "X_train, X_test, y_train, y_test = train_test_split(X, y, test_size=0.1, random_state=0)\n",
        "\n",
        "#using Support Vector Regression to predict results\n",
        "\n",
        "clf = svm.SVR(kernel='linear',gamma=0.0000000000001, C=0.000000001)\n",
        "clf.fit(X_train, y_train)\n",
        "\n",
        "y_pred_svr = clf.predict(X_test)\n",
        "\n",
        "import sklearn\n",
        "import sklearn.metrics as sm\n",
        "\n",
        "print(\"R2 score =\", round(sm.r2_score(y_test, y_pred_svr), 2))\n",
        "print(\"Mean absolute error =\", round(sm.mean_absolute_error(y_test, y_pred_svr), 2)) \n",
        "print(\"Mean squared error =\", round(sm.mean_squared_error(y_test, y_pred_svr), 2)) \n",
        "print(\"Explain variance score =\", round(sm.explained_variance_score(y_test, y_pred_svr), 2)) "
      ],
      "execution_count": 317,
      "outputs": [
        {
          "output_type": "stream",
          "text": [
            "R2 score = -0.61\n",
            "Mean absolute error = 0.12\n",
            "Mean squared error = 0.02\n",
            "Explain variance score = -0.0\n"
          ],
          "name": "stdout"
        }
      ]
    },
    {
      "cell_type": "code",
      "metadata": {
        "colab": {
          "base_uri": "https://localhost:8080/"
        },
        "id": "Dx02F7ryL3eK",
        "outputId": "f15ceb79-1225-45be-e822-c7d570b8c669"
      },
      "source": [
        "\n",
        "live_data = np.array([[113.8079505]])\n",
        "prediction_svr = clf.predict(live_data)\n",
        "print('percentage of fat per litre of milk is: ', prediction_svr)"
      ],
      "execution_count": 318,
      "outputs": [
        {
          "output_type": "stream",
          "text": [
            "percentage of fat per litre of milk is:  [9.40000406]\n"
          ],
          "name": "stdout"
        }
      ]
    },
    {
      "cell_type": "code",
      "metadata": {
        "colab": {
          "base_uri": "https://localhost:8080/"
        },
        "id": "4chXOSEXmwfZ",
        "outputId": "1902db30-48f6-4070-dd7d-64c0ba1da38e"
      },
      "source": [
        "#now we will use linear regression to compare and contrast.\n",
        "from sklearn import linear_model\n",
        "lr = linear_model.LinearRegression()\n",
        "lr.fit(X_train, y_train)\n",
        "acc = lr.score(X_train, y_train) \n",
        "print(acc)\n",
        "\n",
        "prediction_lr = lr.predict([[113.8079505]])\n",
        "print(prediction_lr)"
      ],
      "execution_count": 319,
      "outputs": [
        {
          "output_type": "stream",
          "text": [
            "0.0025015814932071168\n",
            "[9.10403613]\n"
          ],
          "name": "stdout"
        }
      ]
    },
    {
      "cell_type": "code",
      "metadata": {
        "id": "88G5Z8t8KwOJ"
      },
      "source": [
        "#the final section includes a more complex solution to finding the %fat, Stochastic Gradient Descent\n",
        "'''\n",
        "#Installing the Dependencies\n",
        "from sklearn.linear_model import SGDRegressor\n",
        "from sklearn.model_selection import train_test_split\n",
        "from sklearn.model_selection import cross_val_score\n",
        "from sklearn.preprocessing import scale\n",
        "import matplotlib.pyplot as plt "
      ],
      "execution_count": null,
      "outputs": []
    },
    {
      "cell_type": "code",
      "metadata": {
        "colab": {
          "base_uri": "https://localhost:8080/"
        },
        "id": "LDOG72Z1NnwZ",
        "outputId": "dd31040a-fa11-4d40-f668-312c667a1de4"
      },
      "source": [
        "'''\n",
        "x_sgd = np.array(New_df3['b pixel val'])\n",
        "x_sgd = x.reshape(-1,1)\n",
        "y_sgd = np.array(df['SNF'])\n",
        "\n",
        "x_sgd = scale(x)\n",
        "y_sgd = scale(y)\n",
        "x_sgd_train, x_sgd_test, y_sgd_train, y_sgd_test = train_test_split(x_sgd, y_sgd, test_size=0.05)\n",
        "\n",
        "sgdr = SGDRegressor(alpha=0.000000001, epsilon=0.01, eta0=0.1,penalty='elasticnet')\n",
        "sgdr.fit(x_sgd_train, y_sgd_train)\n",
        "\n",
        "score = sgdr.score(x_sgd_train, y_sgd_train)\n",
        "print(\"R-squared:\", score)\n",
        "\n",
        "\n",
        "y_sgd_pred = sgdr.predict(x_sgd_test)\n",
        "\n",
        "mse = mean_squared_error(y_sgd_test, y_sgd_pred)\n",
        "print(\"MSE: \", mse)\n",
        "\n",
        "#prediction algorithm\n",
        "y_sgd_pred = sgdr.predict([[113]])\n",
        "print(y_sgd_pred)"
      ],
      "execution_count": 303,
      "outputs": [
        {
          "output_type": "stream",
          "text": [
            "R-squared: -0.0003234286954252319\n",
            "MSE:  0.2406621477258534\n",
            "[12.1569553]\n"
          ],
          "name": "stdout"
        }
      ]
    }
  ]
}